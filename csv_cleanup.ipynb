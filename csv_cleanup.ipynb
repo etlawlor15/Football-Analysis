{
 "cells": [
  {
   "cell_type": "code",
   "execution_count": 2,
   "metadata": {},
   "outputs": [],
   "source": [
    "# Python 3.9.13, maybe we can set up docker\n",
    "import pandas as pd\n",
    "df = pd.read_csv(\"Data/fm_player_data.csv\")"
   ]
  },
  {
   "cell_type": "code",
   "execution_count": 3,
   "metadata": {},
   "outputs": [
    {
     "name": "stderr",
     "output_type": "stream",
     "text": [
      "<ipython-input-3-55775c8e3c7a>:3: FutureWarning: DataFrame.applymap has been deprecated. Use DataFrame.map instead.\n",
      "  df = df.applymap(lambda x: x.replace('\"', '') if isinstance(x, str) else x)\n"
     ]
    },
    {
     "name": "stdout",
     "output_type": "stream",
     "text": [
      "      Unnamed: 0   player_id                 Name                        DoB  \\\n",
      "0              1     7458500         Lionel Messi   6/24/1987 (35 years old)   \n",
      "1              2    14157184  Alexis Mac Allister  12/24/1998 (24 years old)   \n",
      "2              3    48037335        Marcus Thuram    8/6/1997 (25 years old)   \n",
      "3              4      735216    Cristiano Ronaldo    2/5/1985 (38 years old)   \n",
      "4              5    55041632       Bernardo Silva   8/10/1994 (28 years old)   \n",
      "...          ...         ...                  ...                        ...   \n",
      "9967        9968    77063200      Jhamir D'Arrigo  11/15/1999 (23 years old)   \n",
      "9968        9969    77029252        Angelo Campos   4/27/1993 (30 years old)   \n",
      "9969        9970  2000097222     Lisandro Vásquez   1/30/2003 (20 years old)   \n",
      "9970        9971    78047041        Gabriel Costa    4/2/1990 (33 years old)   \n",
      "9971        9972    77055658      Alejandro Ramos   9/13/1998 (24 years old)   \n",
      "\n",
      "             Position                 Club                   Division  \\\n",
      "0     AM (RC), ST (C)             Paris SG          Ligue 1 Uber Eats   \n",
      "1        DM, M/AM (C)             Brighton   English Premier Division   \n",
      "2      AM (L), ST (C)  Borussia M'gladbach                 Bundesliga   \n",
      "3              ST (C)       Al-Nassr (KSA)  Saudi Professional League   \n",
      "4           M/AM (RC)             Man City   English Premier Division   \n",
      "...               ...                  ...                        ...   \n",
      "9967  WB (L), AM (RL)               Melgar    Peruvian First Division   \n",
      "9968               GK              Alianza    Peruvian First Division   \n",
      "9969         M/AM (R)               Melgar    Peruvian First Division   \n",
      "9970         AM (RLC)              Alianza    Peruvian First Division   \n",
      "9971         D/WB (R)               Melgar    Peruvian First Division   \n",
      "\n",
      "     Nationality EU National Contract Start  ... Rushing out Tendency  \\\n",
      "0            ARG         Yes      8/10/2021  ...                    3   \n",
      "1            ARG          No     10/22/2022  ...                    4   \n",
      "2            FRA         Yes      6/14/2021  ...                    3   \n",
      "3            POR         Yes     12/31/2022  ...                    2   \n",
      "4            POR         Yes      6/14/2021  ...                    2   \n",
      "...          ...         ...            ...  ...                  ...   \n",
      "9967         PER          No      12/1/2022  ...                    2   \n",
      "9968         PER          No      3/23/2021  ...                   11   \n",
      "9969         PER          No      12/1/2022  ...                    3   \n",
      "9970         PER          No      12/1/2022  ...                    3   \n",
      "9971         PER          No     12/29/2020  ...                    2   \n",
      "\n",
      "     Reflexes Punching Tendency One on Ones Kicking Handling Eccentricity  \\\n",
      "0           1                 2           1       3        3            3   \n",
      "1           2                 1           1       3        1            2   \n",
      "2           3                 3           1       3        2            1   \n",
      "3           2                 2           2       1        1            2   \n",
      "4           2                 1           2       3        2            2   \n",
      "...       ...               ...         ...     ...      ...          ...   \n",
      "9967        2                 3           3       3        4            3   \n",
      "9968       15                12          13      12       13            8   \n",
      "9969        1                 3           3       1        2            1   \n",
      "9970        4                 3           3       4        3            3   \n",
      "9971        1                 2           1       2        3            2   \n",
      "\n",
      "     Communication Command of Area  Aerial Reach  \n",
      "0                3               3             3  \n",
      "1                2               1             1  \n",
      "2                2               1             1  \n",
      "3                1               4             3  \n",
      "4                1               3             2  \n",
      "...            ...             ...           ...  \n",
      "9967             3               3             1  \n",
      "9968            12              13            13  \n",
      "9969             1               1             2  \n",
      "9970             3               3             2  \n",
      "9971             2               3             1  \n",
      "\n",
      "[9972 rows x 81 columns]\n"
     ]
    }
   ],
   "source": [
    "# Remove double quotes\n",
    "df.columns = df.columns.str.replace('\"', '')\n",
    "df = df.applymap(lambda x: x.replace('\"', '') if isinstance(x, str) else x)\n",
    "\n",
    "# Display the modified DataFrame\n",
    "print(df)"
   ]
  },
  {
   "cell_type": "code",
   "execution_count": null,
   "metadata": {},
   "outputs": [],
   "source": []
  },
  {
   "cell_type": "code",
   "execution_count": null,
   "metadata": {},
   "outputs": [],
   "source": []
  },
  {
   "cell_type": "code",
   "execution_count": null,
   "metadata": {},
   "outputs": [],
   "source": []
  },
  {
   "cell_type": "code",
   "execution_count": null,
   "metadata": {},
   "outputs": [],
   "source": []
  },
  {
   "cell_type": "code",
   "execution_count": null,
   "metadata": {},
   "outputs": [],
   "source": []
  }
 ],
 "metadata": {
  "kernelspec": {
   "display_name": "Python 3",
   "language": "python",
   "name": "python3"
  },
  "language_info": {
   "codemirror_mode": {
    "name": "ipython",
    "version": 3
   },
   "file_extension": ".py",
   "mimetype": "text/x-python",
   "name": "python",
   "nbconvert_exporter": "python",
   "pygments_lexer": "ipython3",
   "version": "3.9.13"
  }
 },
 "nbformat": 4,
 "nbformat_minor": 2
}
